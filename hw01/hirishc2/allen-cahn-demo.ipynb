{
 "cells": [
  {
   "cell_type": "code",
   "execution_count": null,
   "id": "d9acccbb-094b-4b41-8a0c-638bb48cf423",
   "metadata": {},
   "outputs": [],
   "source": [
    "import numpy as np\n",
    "import matplotlib.pyplot as plt"
   ]
  },
  {
   "cell_type": "markdown",
   "id": "de50fe12-9832-45c7-9534-485808387583",
   "metadata": {},
   "source": [
    "Consider the Allen-Cahn PDE\n",
    "\\begin{align}\n",
    "u_t - 0.0001 u_{xx} + 5 u^3 - 5 u & = 0\\\\\n",
    "u(0, x) &= x^2 \\cos(\\pi x)\\\\\n",
    "u(t, -1) &= u(t, 1)\\\\\n",
    "u_x(t, -1) &= u_x(t, 1)\n",
    "\\end{align}\n",
    "\n",
    "Implement and reproduce Figure 2  in https://www.sciencedirect.com/science/article/pii/S0021999118307125\n",
    "using a finite-difference scheme.  Explicit Euler timestepping is sufficient.\n",
    "\n",
    "As a start, consider *zero* boundary conditions"
   ]
  },
  {
   "cell_type": "code",
   "execution_count": null,
   "id": "a8bd3813-1c2d-433e-8763-d78d5dbcdda7",
   "metadata": {},
   "outputs": [],
   "source": [
    "nx = 101\n",
    "x= np.linspace(-1, 1, nx)\n",
    "hx = x[1] - x[0]\n",
    "\n",
    "def uinit(x):\n",
    "    return x**2 * np.cos(np.pi * x)\n",
    "plt.plot(x, uinit(x))"
   ]
  },
  {
   "cell_type": "code",
   "execution_count": null,
   "id": "6055c8d9-be4d-4a27-8a04-260a792ee749",
   "metadata": {},
   "outputs": [],
   "source": []
  }
 ],
 "metadata": {
  "kernelspec": {
   "display_name": "Python 3 (ipykernel)",
   "language": "python",
   "name": "python3"
  },
  "language_info": {
   "codemirror_mode": {
    "name": "ipython",
    "version": 3
   },
   "file_extension": ".py",
   "mimetype": "text/x-python",
   "name": "python",
   "nbconvert_exporter": "python",
   "pygments_lexer": "ipython3",
   "version": "3.10.12"
  }
 },
 "nbformat": 4,
 "nbformat_minor": 5
}
